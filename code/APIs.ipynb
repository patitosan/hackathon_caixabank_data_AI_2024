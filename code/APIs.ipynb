{
 "cells": [
  {
   "cell_type": "code",
   "execution_count": 1,
   "metadata": {},
   "outputs": [],
   "source": [
    "import requests\n",
    "import json\n",
    "import pandas as pd\n",
    "import os\n",
    "from tqdm.notebook import tqdm  # Barra de progreso para notebooks"
   ]
  },
  {
   "cell_type": "markdown",
   "metadata": {},
   "source": [
    "Función para Obtener Datos de Clientes"
   ]
  },
  {
   "cell_type": "code",
   "execution_count": 2,
   "metadata": {},
   "outputs": [],
   "source": [
    "def get_client_data(client_id):\n",
    "    url = 'https://faas-lon1-917a94a7.doserverless.co/api/v1/web/' \\\n",
    "          'fn-a1f52b59-3551-477f-b8f3-de612fbf2769/default/clients-data'\n",
    "    params = {'client_id': client_id}\n",
    "    try:\n",
    "        response = requests.get(url, params=params, timeout=10)\n",
    "        response.raise_for_status()\n",
    "        data = response.json()\n",
    "        return data.get('values', {})\n",
    "    except requests.exceptions.RequestException as e:\n",
    "        print(f'Error al obtener datos del cliente {client_id}: {e}')\n",
    "        return None"
   ]
  },
  {
   "cell_type": "markdown",
   "metadata": {},
   "source": [
    "Función para Obtener Datos de Tarjetas"
   ]
  },
  {
   "cell_type": "code",
   "execution_count": 3,
   "metadata": {},
   "outputs": [],
   "source": [
    "def get_card_data(client_id):\n",
    "    url = 'https://faas-lon1-917a94a7.doserverless.co/api/v1/web/' \\\n",
    "          'fn-a1f52b59-3551-477f-b8f3-de612fbf2769/default/cards-data'\n",
    "    params = {'client_id': client_id}\n",
    "    try:\n",
    "        response = requests.get(url, params=params, timeout=10)\n",
    "        response.raise_for_status()\n",
    "        data = response.json()\n",
    "        return data.get('values', {})\n",
    "    except requests.exceptions.RequestException as e:\n",
    "        print(f'Error al obtener datos de tarjetas para el cliente {client_id}: {e}')\n",
    "        return None"
   ]
  },
  {
   "cell_type": "code",
   "execution_count": 4,
   "metadata": {},
   "outputs": [],
   "source": [
    "transactions = pd.read_csv('data/raw/transactions_data.csv', parse_dates=['date'])"
   ]
  },
  {
   "cell_type": "code",
   "execution_count": 5,
   "metadata": {},
   "outputs": [
    {
     "name": "stdout",
     "output_type": "stream",
     "text": [
      "Se encontraron 1219 clientes únicos.\n"
     ]
    }
   ],
   "source": [
    "client_ids = transactions['client_id'].unique()\n",
    "print(f'Se encontraron {len(client_ids)} clientes únicos.')"
   ]
  },
  {
   "cell_type": "code",
   "execution_count": 6,
   "metadata": {},
   "outputs": [],
   "source": [
    "os.makedirs('data/processed', exist_ok=True)"
   ]
  },
  {
   "cell_type": "code",
   "execution_count": 7,
   "metadata": {},
   "outputs": [
    {
     "data": {
      "application/vnd.jupyter.widget-view+json": {
       "model_id": "3986c61a03c8490ba60e1338034a3feb",
       "version_major": 2,
       "version_minor": 0
      },
      "text/plain": [
       "Descargando datos de clientes:   0%|          | 0/1219 [00:00<?, ?it/s]"
      ]
     },
     "metadata": {},
     "output_type": "display_data"
    }
   ],
   "source": [
    "all_client_data = {}\n",
    "\n",
    "for client_id in tqdm(client_ids, desc='Descargando datos de clientes'):\n",
    "    client_data = get_client_data(client_id)\n",
    "    if client_data is not None:\n",
    "        all_client_data[str(client_id)] = client_data  # Convertir client_id a str"
   ]
  },
  {
   "cell_type": "code",
   "execution_count": 8,
   "metadata": {},
   "outputs": [],
   "source": [
    "with open('data/processed/clients_data.json', 'w') as f:\n",
    "    json.dump(all_client_data, f)"
   ]
  },
  {
   "cell_type": "code",
   "execution_count": null,
   "metadata": {},
   "outputs": [],
   "source": [
    "# Descargar y almacenar los datos de tarjetas\n",
    "all_card_data = {}\n",
    "\n",
    "for client_id in tqdm(client_ids, desc='Descargando datos de tarjetas'):\n",
    "    card_data = get_card_data(client_id)\n",
    "    if card_data is not None:\n",
    "        all_card_data[str(client_id)] = card_data  # client_id es str"
   ]
  },
  {
   "cell_type": "code",
   "execution_count": 11,
   "metadata": {},
   "outputs": [],
   "source": [
    "# Guardar los datos en un archivo JSON\n",
    "with open('data/processed/cards_data.json', 'w') as f:\n",
    "    json.dump(all_card_data, f)"
   ]
  },
  {
   "cell_type": "markdown",
   "metadata": {},
   "source": [
    "Descargar Archivo train_fraud_labels.json"
   ]
  },
  {
   "cell_type": "code",
   "execution_count": null,
   "metadata": {},
   "outputs": [],
   "source": [
    "import requests\n",
    "\n",
    "url = 'https://cdn.nuwe.io/challenges-ds-datasets/hackathon-caixabank-data-24/train_fraud_labels.json'\n",
    "response = requests.get(url)\n",
    "\n",
    "if response.status_code == 200:\n",
    "    with open('data/raw/train_fraud_labels.json', 'wb') as f:\n",
    "        f.write(response.content)\n",
    "    print('Archivo train_fraud_labels.json descargado correctamente.')\n",
    "else:\n",
    "    print('Error al descargar el archivo train_fraud_labels.json.')"
   ]
  }
 ],
 "metadata": {
  "kernelspec": {
   "display_name": "venv",
   "language": "python",
   "name": "python3"
  },
  "language_info": {
   "codemirror_mode": {
    "name": "ipython",
    "version": 3
   },
   "file_extension": ".py",
   "mimetype": "text/x-python",
   "name": "python",
   "nbconvert_exporter": "python",
   "pygments_lexer": "ipython3",
   "version": "3.10.15"
  }
 },
 "nbformat": 4,
 "nbformat_minor": 2
}
