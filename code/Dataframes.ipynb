{
 "cells": [
  {
   "cell_type": "markdown",
   "metadata": {},
   "source": []
  },
  {
   "cell_type": "code",
   "execution_count": 1,
   "metadata": {},
   "outputs": [],
   "source": [
    "import pandas as pd\n",
    "import json"
   ]
  },
  {
   "cell_type": "markdown",
   "metadata": {},
   "source": [
    "Convertir clients data en dataframe"
   ]
  },
  {
   "cell_type": "code",
   "execution_count": 2,
   "metadata": {},
   "outputs": [
    {
     "name": "stdout",
     "output_type": "stream",
     "text": [
      "  client_id                   address birth_month birth_year credit_score  \\\n",
      "0      1556  594 Mountain View Street           7       1989          740   \n",
      "1       561           604 Pine Street           6       1971          834   \n",
      "2      1129          2379 Forest Lane           4       1970          686   \n",
      "3       430        903 Hill Boulevard           5       1967          685   \n",
      "4       848           166 River Drive           5       1968          711   \n",
      "\n",
      "  current_age  gender latitude longitude num_credit_cards per_capita_income  \\\n",
      "0          30  Female     46.8   -100.76                4            $23679   \n",
      "1          48    Male     40.8    -91.12                5            $18076   \n",
      "2          49    Male    33.18   -117.29                3            $16894   \n",
      "3          52  Female    41.42    -87.35                5            $26168   \n",
      "4          51    Male    38.86     -76.6                2            $33529   \n",
      "\n",
      "  retirement_age total_debt yearly_income  \n",
      "0             67    $110153        $48277  \n",
      "1             67    $112139        $36853  \n",
      "2             65     $36540        $34449  \n",
      "3             67    $128676        $53350  \n",
      "4             69     $96182        $68362  \n",
      "<class 'pandas.core.frame.DataFrame'>\n",
      "RangeIndex: 1219 entries, 0 to 1218\n",
      "Data columns (total 14 columns):\n",
      " #   Column             Non-Null Count  Dtype \n",
      "---  ------             --------------  ----- \n",
      " 0   client_id          1219 non-null   object\n",
      " 1   address            1219 non-null   object\n",
      " 2   birth_month        1219 non-null   object\n",
      " 3   birth_year         1219 non-null   object\n",
      " 4   credit_score       1219 non-null   object\n",
      " 5   current_age        1219 non-null   object\n",
      " 6   gender             1219 non-null   object\n",
      " 7   latitude           1219 non-null   object\n",
      " 8   longitude          1219 non-null   object\n",
      " 9   num_credit_cards   1219 non-null   object\n",
      " 10  per_capita_income  1219 non-null   object\n",
      " 11  retirement_age     1219 non-null   object\n",
      " 12  total_debt         1219 non-null   object\n",
      " 13  yearly_income      1219 non-null   object\n",
      "dtypes: object(14)\n",
      "memory usage: 133.5+ KB\n",
      "None\n"
     ]
    }
   ],
   "source": [
    "# Cargar los datos de clientes desde el archivo JSON\n",
    "with open('data/processed/clients_data.json', 'r') as f:\n",
    "    clients_data = json.load(f)\n",
    "\n",
    "# Convertir el diccionario en un DataFrame\n",
    "clients_df = pd.DataFrame.from_dict(clients_data, orient='index')\n",
    "\n",
    "# Restablecer el índice y nombrar la columna 'client_id'\n",
    "clients_df.reset_index(inplace=True)\n",
    "clients_df.rename(columns={'index': 'client_id'}, inplace=True)\n",
    "\n",
    "# Verificar el DataFrame resultante\n",
    "print(clients_df.head())\n",
    "print(clients_df.info())"
   ]
  },
  {
   "cell_type": "code",
   "execution_count": 3,
   "metadata": {},
   "outputs": [
    {
     "data": {
      "text/html": [
       "<div>\n",
       "<style scoped>\n",
       "    .dataframe tbody tr th:only-of-type {\n",
       "        vertical-align: middle;\n",
       "    }\n",
       "\n",
       "    .dataframe tbody tr th {\n",
       "        vertical-align: top;\n",
       "    }\n",
       "\n",
       "    .dataframe thead th {\n",
       "        text-align: right;\n",
       "    }\n",
       "</style>\n",
       "<table border=\"1\" class=\"dataframe\">\n",
       "  <thead>\n",
       "    <tr style=\"text-align: right;\">\n",
       "      <th></th>\n",
       "      <th>client_id</th>\n",
       "      <th>address</th>\n",
       "      <th>birth_month</th>\n",
       "      <th>birth_year</th>\n",
       "      <th>credit_score</th>\n",
       "      <th>current_age</th>\n",
       "      <th>gender</th>\n",
       "      <th>latitude</th>\n",
       "      <th>longitude</th>\n",
       "      <th>num_credit_cards</th>\n",
       "      <th>per_capita_income</th>\n",
       "      <th>retirement_age</th>\n",
       "      <th>total_debt</th>\n",
       "      <th>yearly_income</th>\n",
       "    </tr>\n",
       "  </thead>\n",
       "  <tbody>\n",
       "    <tr>\n",
       "      <th>0</th>\n",
       "      <td>1556</td>\n",
       "      <td>594 Mountain View Street</td>\n",
       "      <td>7</td>\n",
       "      <td>1989</td>\n",
       "      <td>740</td>\n",
       "      <td>30</td>\n",
       "      <td>Female</td>\n",
       "      <td>46.8</td>\n",
       "      <td>-100.76</td>\n",
       "      <td>4</td>\n",
       "      <td>$23679</td>\n",
       "      <td>67</td>\n",
       "      <td>$110153</td>\n",
       "      <td>$48277</td>\n",
       "    </tr>\n",
       "    <tr>\n",
       "      <th>1</th>\n",
       "      <td>561</td>\n",
       "      <td>604 Pine Street</td>\n",
       "      <td>6</td>\n",
       "      <td>1971</td>\n",
       "      <td>834</td>\n",
       "      <td>48</td>\n",
       "      <td>Male</td>\n",
       "      <td>40.8</td>\n",
       "      <td>-91.12</td>\n",
       "      <td>5</td>\n",
       "      <td>$18076</td>\n",
       "      <td>67</td>\n",
       "      <td>$112139</td>\n",
       "      <td>$36853</td>\n",
       "    </tr>\n",
       "    <tr>\n",
       "      <th>2</th>\n",
       "      <td>1129</td>\n",
       "      <td>2379 Forest Lane</td>\n",
       "      <td>4</td>\n",
       "      <td>1970</td>\n",
       "      <td>686</td>\n",
       "      <td>49</td>\n",
       "      <td>Male</td>\n",
       "      <td>33.18</td>\n",
       "      <td>-117.29</td>\n",
       "      <td>3</td>\n",
       "      <td>$16894</td>\n",
       "      <td>65</td>\n",
       "      <td>$36540</td>\n",
       "      <td>$34449</td>\n",
       "    </tr>\n",
       "    <tr>\n",
       "      <th>3</th>\n",
       "      <td>430</td>\n",
       "      <td>903 Hill Boulevard</td>\n",
       "      <td>5</td>\n",
       "      <td>1967</td>\n",
       "      <td>685</td>\n",
       "      <td>52</td>\n",
       "      <td>Female</td>\n",
       "      <td>41.42</td>\n",
       "      <td>-87.35</td>\n",
       "      <td>5</td>\n",
       "      <td>$26168</td>\n",
       "      <td>67</td>\n",
       "      <td>$128676</td>\n",
       "      <td>$53350</td>\n",
       "    </tr>\n",
       "    <tr>\n",
       "      <th>4</th>\n",
       "      <td>848</td>\n",
       "      <td>166 River Drive</td>\n",
       "      <td>5</td>\n",
       "      <td>1968</td>\n",
       "      <td>711</td>\n",
       "      <td>51</td>\n",
       "      <td>Male</td>\n",
       "      <td>38.86</td>\n",
       "      <td>-76.6</td>\n",
       "      <td>2</td>\n",
       "      <td>$33529</td>\n",
       "      <td>69</td>\n",
       "      <td>$96182</td>\n",
       "      <td>$68362</td>\n",
       "    </tr>\n",
       "  </tbody>\n",
       "</table>\n",
       "</div>"
      ],
      "text/plain": [
       "  client_id                   address birth_month birth_year credit_score  \\\n",
       "0      1556  594 Mountain View Street           7       1989          740   \n",
       "1       561           604 Pine Street           6       1971          834   \n",
       "2      1129          2379 Forest Lane           4       1970          686   \n",
       "3       430        903 Hill Boulevard           5       1967          685   \n",
       "4       848           166 River Drive           5       1968          711   \n",
       "\n",
       "  current_age  gender latitude longitude num_credit_cards per_capita_income  \\\n",
       "0          30  Female     46.8   -100.76                4            $23679   \n",
       "1          48    Male     40.8    -91.12                5            $18076   \n",
       "2          49    Male    33.18   -117.29                3            $16894   \n",
       "3          52  Female    41.42    -87.35                5            $26168   \n",
       "4          51    Male    38.86     -76.6                2            $33529   \n",
       "\n",
       "  retirement_age total_debt yearly_income  \n",
       "0             67    $110153        $48277  \n",
       "1             67    $112139        $36853  \n",
       "2             65     $36540        $34449  \n",
       "3             67    $128676        $53350  \n",
       "4             69     $96182        $68362  "
      ]
     },
     "execution_count": 3,
     "metadata": {},
     "output_type": "execute_result"
    }
   ],
   "source": [
    "clients_df.head()"
   ]
  },
  {
   "cell_type": "markdown",
   "metadata": {},
   "source": [
    "Convertir Cardd data en dataframe"
   ]
  },
  {
   "cell_type": "code",
   "execution_count": 5,
   "metadata": {},
   "outputs": [
    {
     "name": "stdout",
     "output_type": "stream",
     "text": [
      "  acct_open_date  card_brand       card_number card_on_dark_web  \\\n",
      "0        05/2008  Mastercard  5497590243197280               No   \n",
      "1        08/2010  Mastercard  5225389722526534               No   \n",
      "2        04/2013  Mastercard  5918296616309874               No   \n",
      "3        07/2006  Mastercard  5250625336912959               No   \n",
      "4        09/2005  Mastercard  5175842699412235               No   \n",
      "\n",
      "         card_type client_id credit_limit  cvv  expires has_chip  \\\n",
      "0  Debit (Prepaid)      1556          $55  306  07/2022      YES   \n",
      "1            Debit      1556       $24772  891  09/2023      YES   \n",
      "2  Debit (Prepaid)       561          $69  983  05/2024      YES   \n",
      "3            Debit       561       $26960  326  04/2022      YES   \n",
      "4           Credit       561        $9100  438  12/2024      YES   \n",
      "\n",
      "  num_cards_issued year_pin_last_changed card_id  \n",
      "0                2                  2008    2972  \n",
      "1                2                  2010    4333  \n",
      "2                1                  2013    2716  \n",
      "3                1                  2010    3764  \n",
      "4                1                  2015    4575  \n",
      "<class 'pandas.core.frame.DataFrame'>\n",
      "RangeIndex: 4071 entries, 0 to 4070\n",
      "Data columns (total 13 columns):\n",
      " #   Column                 Non-Null Count  Dtype \n",
      "---  ------                 --------------  ----- \n",
      " 0   acct_open_date         4071 non-null   object\n",
      " 1   card_brand             4071 non-null   object\n",
      " 2   card_number            4071 non-null   object\n",
      " 3   card_on_dark_web       4071 non-null   object\n",
      " 4   card_type              4071 non-null   object\n",
      " 5   client_id              4071 non-null   object\n",
      " 6   credit_limit           4071 non-null   object\n",
      " 7   cvv                    4071 non-null   object\n",
      " 8   expires                4071 non-null   object\n",
      " 9   has_chip               4071 non-null   object\n",
      " 10  num_cards_issued       4071 non-null   object\n",
      " 11  year_pin_last_changed  4071 non-null   object\n",
      " 12  card_id                4071 non-null   object\n",
      "dtypes: object(13)\n",
      "memory usage: 413.6+ KB\n",
      "None\n"
     ]
    }
   ],
   "source": [
    "# Cargar los datos de tarjetas desde el archivo JSON\n",
    "with open('data/processed/cards_data.json', 'r') as f:\n",
    "    cards_data = json.load(f)\n",
    "\n",
    "# Convertir los datos en una lista de diccionarios\n",
    "cards_list = []\n",
    "\n",
    "for client_id, cards in cards_data.items():\n",
    "    for card_id, card_info in cards.items():\n",
    "        card_info['client_id'] = client_id\n",
    "        card_info['card_id'] = card_id\n",
    "        cards_list.append(card_info)\n",
    "\n",
    "# Convertir la lista en un DataFrame\n",
    "cards_df = pd.DataFrame(cards_list)\n",
    "\n",
    "# Verificar el DataFrame resultante\n",
    "print(cards_df.head())\n",
    "print(cards_df.info())"
   ]
  },
  {
   "cell_type": "code",
   "execution_count": 6,
   "metadata": {},
   "outputs": [
    {
     "name": "stdout",
     "output_type": "stream",
     "text": [
      "<class 'pandas.core.frame.DataFrame'>\n",
      "RangeIndex: 4071 entries, 0 to 4070\n",
      "Data columns (total 13 columns):\n",
      " #   Column                 Non-Null Count  Dtype \n",
      "---  ------                 --------------  ----- \n",
      " 0   acct_open_date         4071 non-null   object\n",
      " 1   card_brand             4071 non-null   object\n",
      " 2   card_number            4071 non-null   object\n",
      " 3   card_on_dark_web       4071 non-null   object\n",
      " 4   card_type              4071 non-null   object\n",
      " 5   client_id              4071 non-null   object\n",
      " 6   credit_limit           4071 non-null   object\n",
      " 7   cvv                    4071 non-null   object\n",
      " 8   expires                4071 non-null   object\n",
      " 9   has_chip               4071 non-null   object\n",
      " 10  num_cards_issued       4071 non-null   object\n",
      " 11  year_pin_last_changed  4071 non-null   object\n",
      " 12  card_id                4071 non-null   object\n",
      "dtypes: object(13)\n",
      "memory usage: 413.6+ KB\n"
     ]
    }
   ],
   "source": [
    "cards_df.info()"
   ]
  },
  {
   "cell_type": "markdown",
   "metadata": {},
   "source": [
    "Convertir Etiquetas de fraude a dataframe"
   ]
  },
  {
   "cell_type": "code",
   "execution_count": 8,
   "metadata": {},
   "outputs": [
    {
     "name": "stdout",
     "output_type": "stream",
     "text": [
      "         target\n",
      "10649266     No\n",
      "23410063     No\n",
      "9316588      No\n",
      "12478022     No\n",
      "9558530      No\n",
      "<class 'pandas.core.frame.DataFrame'>\n",
      "Index: 8914963 entries, 10649266 to 15151926\n",
      "Data columns (total 1 columns):\n",
      " #   Column  Dtype \n",
      "---  ------  ----- \n",
      " 0   target  object\n",
      "dtypes: object(1)\n",
      "memory usage: 136.0+ MB\n",
      "None\n"
     ]
    }
   ],
   "source": [
    "# Cargar las etiquetas de fraude desde el archivo JSON\n",
    "with open('data/raw/train_fraud_labels.json', 'r') as f:\n",
    "    fraud_labels = pd.read_json(f)\n",
    "\n",
    "# Verificar el contenido\n",
    "print(fraud_labels.head())\n",
    "print(fraud_labels.info())"
   ]
  },
  {
   "cell_type": "code",
   "execution_count": 12,
   "metadata": {},
   "outputs": [
    {
     "name": "stdout",
     "output_type": "stream",
     "text": [
      "<class 'pandas.core.frame.DataFrame'>\n",
      "Index: 8914963 entries, 10649266 to 15151926\n",
      "Data columns (total 1 columns):\n",
      " #   Column  Dtype \n",
      "---  ------  ----- \n",
      " 0   target  object\n",
      "dtypes: object(1)\n",
      "memory usage: 136.0+ MB\n"
     ]
    }
   ],
   "source": [
    "fraud_labels.info()"
   ]
  },
  {
   "cell_type": "code",
   "execution_count": 13,
   "metadata": {},
   "outputs": [
    {
     "name": "stdout",
     "output_type": "stream",
     "text": [
      "         target\n",
      "10649266     No\n",
      "23410063     No\n",
      "9316588      No\n",
      "12478022     No\n",
      "9558530      No\n",
      "Total de registros en fraud_labels: 8914963\n",
      "target    object\n",
      "dtype: object\n"
     ]
    }
   ],
   "source": [
    "# Mostrar las primeras filas\n",
    "print(fraud_labels.head())\n",
    "\n",
    "# Verificar la cantidad de registros\n",
    "print(f'Total de registros en fraud_labels: {len(fraud_labels)}')\n",
    "\n",
    "# Verificar los tipos de datos\n",
    "print(fraud_labels.dtypes)"
   ]
  },
  {
   "cell_type": "code",
   "execution_count": 14,
   "metadata": {},
   "outputs": [
    {
     "name": "stdout",
     "output_type": "stream",
     "text": [
      "        id                date  client_id  card_id   amount  \\\n",
      "0  7475327 2010-01-01 00:01:00       1556     2972  $-77.00   \n",
      "1  7475328 2010-01-01 00:02:00        561     4575   $14.57   \n",
      "2  7475329 2010-01-01 00:02:00       1129      102   $80.00   \n",
      "3  7475331 2010-01-01 00:05:00        430     2860  $200.00   \n",
      "4  7475332 2010-01-01 00:06:00        848     3915   $46.41   \n",
      "\n",
      "            use_chip  merchant_id merchant_city merchant_state      zip   mcc  \\\n",
      "0  Swipe Transaction        59935        Beulah             ND  58523.0  5499   \n",
      "1  Swipe Transaction        67570    Bettendorf             IA  52722.0  5311   \n",
      "2  Swipe Transaction        27092         Vista             CA  92084.0  4829   \n",
      "3  Swipe Transaction        27092   Crown Point             IN  46307.0  4829   \n",
      "4  Swipe Transaction        13051       Harwood             MD  20776.0  5813   \n",
      "\n",
      "  errors  \n",
      "0    NaN  \n",
      "1    NaN  \n",
      "2    NaN  \n",
      "3    NaN  \n",
      "4    NaN  \n",
      "id                         int64\n",
      "date              datetime64[ns]\n",
      "client_id                  int64\n",
      "card_id                    int64\n",
      "amount                    object\n",
      "use_chip                  object\n",
      "merchant_id                int64\n",
      "merchant_city             object\n",
      "merchant_state            object\n",
      "zip                      float64\n",
      "mcc                        int64\n",
      "errors                    object\n",
      "dtype: object\n"
     ]
    }
   ],
   "source": [
    "# Asegúrate de tener cargado el DataFrame de transacciones\n",
    "transactions = pd.read_csv('data/raw/transactions_data.csv', parse_dates=['date'])\n",
    "\n",
    "# Verificar el contenido\n",
    "print(transactions.head())\n",
    "print(transactions.dtypes)"
   ]
  },
  {
   "cell_type": "code",
   "execution_count": 15,
   "metadata": {},
   "outputs": [
    {
     "name": "stdout",
     "output_type": "stream",
     "text": [
      "<class 'pandas.core.frame.DataFrame'>\n",
      "RangeIndex: 13305915 entries, 0 to 13305914\n",
      "Data columns (total 12 columns):\n",
      " #   Column          Dtype         \n",
      "---  ------          -----         \n",
      " 0   id              int64         \n",
      " 1   date            datetime64[ns]\n",
      " 2   client_id       int64         \n",
      " 3   card_id         int64         \n",
      " 4   amount          object        \n",
      " 5   use_chip        object        \n",
      " 6   merchant_id     int64         \n",
      " 7   merchant_city   object        \n",
      " 8   merchant_state  object        \n",
      " 9   zip             float64       \n",
      " 10  mcc             int64         \n",
      " 11  errors          object        \n",
      "dtypes: datetime64[ns](1), float64(1), int64(5), object(5)\n",
      "memory usage: 1.2+ GB\n"
     ]
    }
   ],
   "source": [
    "transactions.info()"
   ]
  },
  {
   "cell_type": "code",
   "execution_count": 16,
   "metadata": {},
   "outputs": [
    {
     "name": "stdout",
     "output_type": "stream",
     "text": [
      "         target\n",
      "10649266     No\n",
      "23410063     No\n",
      "9316588      No\n",
      "12478022     No\n",
      "9558530      No\n",
      "Index(['target'], dtype='object')\n"
     ]
    }
   ],
   "source": [
    "# Mostrar las primeras filas del DataFrame\n",
    "print(fraud_labels.head())\n",
    "\n",
    "# Mostrar los nombres de las columnas\n",
    "print(fraud_labels.columns)"
   ]
  },
  {
   "cell_type": "code",
   "execution_count": 19,
   "metadata": {},
   "outputs": [
    {
     "data": {
      "text/plain": [
       "target\n",
       "No        8901631\n",
       "Yes         13332\n",
       "Name: count, dtype: int64"
      ]
     },
     "execution_count": 19,
     "metadata": {},
     "output_type": "execute_result"
    }
   ],
   "source": [
    "fraud_labels.value_counts()"
   ]
  },
  {
   "cell_type": "code",
   "execution_count": 17,
   "metadata": {},
   "outputs": [
    {
     "name": "stdout",
     "output_type": "stream",
     "text": [
      "Número de transacciones: 13305915\n",
      "Número de etiquetas de fraude: 8914963\n"
     ]
    }
   ],
   "source": [
    "# Verificar el número de transacciones\n",
    "num_transactions = len(transactions)\n",
    "print(f'Número de transacciones: {num_transactions}')\n",
    "\n",
    "# Verificar el número de etiquetas de fraude\n",
    "num_labels = len(fraud_labels)\n",
    "print(f'Número de etiquetas de fraude: {num_labels}')"
   ]
  },
  {
   "cell_type": "markdown",
   "metadata": {},
   "source": [
    "Al verificar que no coinciden las transacciones con las etiquetas de fraude debo pausar y volver en otro momento para:\n",
    "\n",
    "1. Leer nuevamente la documentación del reto\n",
    "2. Intentar combinar las etiquetas con mcc_codes.json\n",
    "3. Verificar que tengo todos los datos pasados a dataframes"
   ]
  }
 ],
 "metadata": {
  "kernelspec": {
   "display_name": "venv",
   "language": "python",
   "name": "python3"
  },
  "language_info": {
   "codemirror_mode": {
    "name": "ipython",
    "version": 3
   },
   "file_extension": ".py",
   "mimetype": "text/x-python",
   "name": "python",
   "nbconvert_exporter": "python",
   "pygments_lexer": "ipython3",
   "version": "3.10.15"
  }
 },
 "nbformat": 4,
 "nbformat_minor": 2
}
